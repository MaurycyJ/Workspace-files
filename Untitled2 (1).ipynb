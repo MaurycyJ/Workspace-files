{
  "nbformat": 4,
  "nbformat_minor": 0,
  "metadata": {
    "colab": {
      "provenance": []
    },
    "kernelspec": {
      "name": "python3",
      "display_name": "Python 3"
    },
    "language_info": {
      "name": "python"
    }
  },
  "cells": [
    {
      "cell_type": "code",
      "execution_count": 1,
      "metadata": {
        "colab": {
          "base_uri": "https://localhost:8080/",
          "height": 73
        },
        "id": "AcbDh_1Cu1Fd",
        "outputId": "9a640458-87cc-4ca5-fdb9-f2367790e6a6"
      },
      "outputs": [
        {
          "output_type": "display_data",
          "data": {
            "text/plain": [
              "<IPython.core.display.HTML object>"
            ],
            "text/html": [
              "\n",
              "     <input type=\"file\" id=\"files-79f19822-4178-49c4-8459-1c6cc3667fa3\" name=\"files[]\" multiple disabled\n",
              "        style=\"border:none\" />\n",
              "     <output id=\"result-79f19822-4178-49c4-8459-1c6cc3667fa3\">\n",
              "      Upload widget is only available when the cell has been executed in the\n",
              "      current browser session. Please rerun this cell to enable.\n",
              "      </output>\n",
              "      <script>// Copyright 2017 Google LLC\n",
              "//\n",
              "// Licensed under the Apache License, Version 2.0 (the \"License\");\n",
              "// you may not use this file except in compliance with the License.\n",
              "// You may obtain a copy of the License at\n",
              "//\n",
              "//      http://www.apache.org/licenses/LICENSE-2.0\n",
              "//\n",
              "// Unless required by applicable law or agreed to in writing, software\n",
              "// distributed under the License is distributed on an \"AS IS\" BASIS,\n",
              "// WITHOUT WARRANTIES OR CONDITIONS OF ANY KIND, either express or implied.\n",
              "// See the License for the specific language governing permissions and\n",
              "// limitations under the License.\n",
              "\n",
              "/**\n",
              " * @fileoverview Helpers for google.colab Python module.\n",
              " */\n",
              "(function(scope) {\n",
              "function span(text, styleAttributes = {}) {\n",
              "  const element = document.createElement('span');\n",
              "  element.textContent = text;\n",
              "  for (const key of Object.keys(styleAttributes)) {\n",
              "    element.style[key] = styleAttributes[key];\n",
              "  }\n",
              "  return element;\n",
              "}\n",
              "\n",
              "// Max number of bytes which will be uploaded at a time.\n",
              "const MAX_PAYLOAD_SIZE = 100 * 1024;\n",
              "\n",
              "function _uploadFiles(inputId, outputId) {\n",
              "  const steps = uploadFilesStep(inputId, outputId);\n",
              "  const outputElement = document.getElementById(outputId);\n",
              "  // Cache steps on the outputElement to make it available for the next call\n",
              "  // to uploadFilesContinue from Python.\n",
              "  outputElement.steps = steps;\n",
              "\n",
              "  return _uploadFilesContinue(outputId);\n",
              "}\n",
              "\n",
              "// This is roughly an async generator (not supported in the browser yet),\n",
              "// where there are multiple asynchronous steps and the Python side is going\n",
              "// to poll for completion of each step.\n",
              "// This uses a Promise to block the python side on completion of each step,\n",
              "// then passes the result of the previous step as the input to the next step.\n",
              "function _uploadFilesContinue(outputId) {\n",
              "  const outputElement = document.getElementById(outputId);\n",
              "  const steps = outputElement.steps;\n",
              "\n",
              "  const next = steps.next(outputElement.lastPromiseValue);\n",
              "  return Promise.resolve(next.value.promise).then((value) => {\n",
              "    // Cache the last promise value to make it available to the next\n",
              "    // step of the generator.\n",
              "    outputElement.lastPromiseValue = value;\n",
              "    return next.value.response;\n",
              "  });\n",
              "}\n",
              "\n",
              "/**\n",
              " * Generator function which is called between each async step of the upload\n",
              " * process.\n",
              " * @param {string} inputId Element ID of the input file picker element.\n",
              " * @param {string} outputId Element ID of the output display.\n",
              " * @return {!Iterable<!Object>} Iterable of next steps.\n",
              " */\n",
              "function* uploadFilesStep(inputId, outputId) {\n",
              "  const inputElement = document.getElementById(inputId);\n",
              "  inputElement.disabled = false;\n",
              "\n",
              "  const outputElement = document.getElementById(outputId);\n",
              "  outputElement.innerHTML = '';\n",
              "\n",
              "  const pickedPromise = new Promise((resolve) => {\n",
              "    inputElement.addEventListener('change', (e) => {\n",
              "      resolve(e.target.files);\n",
              "    });\n",
              "  });\n",
              "\n",
              "  const cancel = document.createElement('button');\n",
              "  inputElement.parentElement.appendChild(cancel);\n",
              "  cancel.textContent = 'Cancel upload';\n",
              "  const cancelPromise = new Promise((resolve) => {\n",
              "    cancel.onclick = () => {\n",
              "      resolve(null);\n",
              "    };\n",
              "  });\n",
              "\n",
              "  // Wait for the user to pick the files.\n",
              "  const files = yield {\n",
              "    promise: Promise.race([pickedPromise, cancelPromise]),\n",
              "    response: {\n",
              "      action: 'starting',\n",
              "    }\n",
              "  };\n",
              "\n",
              "  cancel.remove();\n",
              "\n",
              "  // Disable the input element since further picks are not allowed.\n",
              "  inputElement.disabled = true;\n",
              "\n",
              "  if (!files) {\n",
              "    return {\n",
              "      response: {\n",
              "        action: 'complete',\n",
              "      }\n",
              "    };\n",
              "  }\n",
              "\n",
              "  for (const file of files) {\n",
              "    const li = document.createElement('li');\n",
              "    li.append(span(file.name, {fontWeight: 'bold'}));\n",
              "    li.append(span(\n",
              "        `(${file.type || 'n/a'}) - ${file.size} bytes, ` +\n",
              "        `last modified: ${\n",
              "            file.lastModifiedDate ? file.lastModifiedDate.toLocaleDateString() :\n",
              "                                    'n/a'} - `));\n",
              "    const percent = span('0% done');\n",
              "    li.appendChild(percent);\n",
              "\n",
              "    outputElement.appendChild(li);\n",
              "\n",
              "    const fileDataPromise = new Promise((resolve) => {\n",
              "      const reader = new FileReader();\n",
              "      reader.onload = (e) => {\n",
              "        resolve(e.target.result);\n",
              "      };\n",
              "      reader.readAsArrayBuffer(file);\n",
              "    });\n",
              "    // Wait for the data to be ready.\n",
              "    let fileData = yield {\n",
              "      promise: fileDataPromise,\n",
              "      response: {\n",
              "        action: 'continue',\n",
              "      }\n",
              "    };\n",
              "\n",
              "    // Use a chunked sending to avoid message size limits. See b/62115660.\n",
              "    let position = 0;\n",
              "    do {\n",
              "      const length = Math.min(fileData.byteLength - position, MAX_PAYLOAD_SIZE);\n",
              "      const chunk = new Uint8Array(fileData, position, length);\n",
              "      position += length;\n",
              "\n",
              "      const base64 = btoa(String.fromCharCode.apply(null, chunk));\n",
              "      yield {\n",
              "        response: {\n",
              "          action: 'append',\n",
              "          file: file.name,\n",
              "          data: base64,\n",
              "        },\n",
              "      };\n",
              "\n",
              "      let percentDone = fileData.byteLength === 0 ?\n",
              "          100 :\n",
              "          Math.round((position / fileData.byteLength) * 100);\n",
              "      percent.textContent = `${percentDone}% done`;\n",
              "\n",
              "    } while (position < fileData.byteLength);\n",
              "  }\n",
              "\n",
              "  // All done.\n",
              "  yield {\n",
              "    response: {\n",
              "      action: 'complete',\n",
              "    }\n",
              "  };\n",
              "}\n",
              "\n",
              "scope.google = scope.google || {};\n",
              "scope.google.colab = scope.google.colab || {};\n",
              "scope.google.colab._files = {\n",
              "  _uploadFiles,\n",
              "  _uploadFilesContinue,\n",
              "};\n",
              "})(self);\n",
              "</script> "
            ]
          },
          "metadata": {}
        },
        {
          "output_type": "stream",
          "name": "stdout",
          "text": [
            "Saving full_data.xlsx to full_data (1).xlsx\n"
          ]
        }
      ],
      "source": [
        "from google.colab import files\n",
        "uploaded = files.upload()"
      ]
    },
    {
      "cell_type": "code",
      "source": [
        "!pip install pandas"
      ],
      "metadata": {
        "colab": {
          "base_uri": "https://localhost:8080/"
        },
        "id": "DEJNPATevN3O",
        "outputId": "afa2b7fa-2490-43ae-bdb1-f50a90222c3d"
      },
      "execution_count": 2,
      "outputs": [
        {
          "output_type": "stream",
          "name": "stdout",
          "text": [
            "Requirement already satisfied: pandas in /usr/local/lib/python3.10/dist-packages (1.5.3)\n",
            "Requirement already satisfied: python-dateutil>=2.8.1 in /usr/local/lib/python3.10/dist-packages (from pandas) (2.8.2)\n",
            "Requirement already satisfied: pytz>=2020.1 in /usr/local/lib/python3.10/dist-packages (from pandas) (2022.7.1)\n",
            "Requirement already satisfied: numpy>=1.21.0 in /usr/local/lib/python3.10/dist-packages (from pandas) (1.22.4)\n",
            "Requirement already satisfied: six>=1.5 in /usr/local/lib/python3.10/dist-packages (from python-dateutil>=2.8.1->pandas) (1.16.0)\n"
          ]
        }
      ]
    },
    {
      "cell_type": "code",
      "source": [
        "import pandas as pd"
      ],
      "metadata": {
        "id": "tY8zI4v3vePr"
      },
      "execution_count": 3,
      "outputs": []
    },
    {
      "cell_type": "code",
      "source": [
        "data = pd.read_excel('full_data.xlsx')"
      ],
      "metadata": {
        "id": "7WBL1XnfvhEs"
      },
      "execution_count": 5,
      "outputs": []
    },
    {
      "cell_type": "code",
      "source": [
        "data.dropna(inplace=True)"
      ],
      "metadata": {
        "id": "avKfevm7wgxi"
      },
      "execution_count": 11,
      "outputs": []
    },
    {
      "cell_type": "code",
      "source": [
        "statistics = data.describe()"
      ],
      "metadata": {
        "id": "OHHvmlNPxlsY"
      },
      "execution_count": 12,
      "outputs": []
    },
    {
      "cell_type": "code",
      "source": [
        "print(statistics)"
      ],
      "metadata": {
        "colab": {
          "base_uri": "https://localhost:8080/"
        },
        "id": "a4Q2iXDCxoFJ",
        "outputId": "a579a418-0891-4efe-9e9d-e528bb5f5192"
      },
      "execution_count": 13,
      "outputs": [
        {
          "output_type": "stream",
          "name": "stdout",
          "text": [
            "         Unnamed: 0  liczba_pokoi          cena  liczba_pieter    rok_budowy  \\\n",
            "count  15051.000000  15051.000000  1.505100e+04   15051.000000  15051.000000   \n",
            "mean    7525.000000      2.791044  6.865994e+05       4.816026   1995.326291   \n",
            "std     4344.993786      1.049595  4.725040e+05       3.277484    210.167631   \n",
            "min        0.000000      1.000000  1.000000e+05       1.000000   1802.000000   \n",
            "25%     3762.500000      2.000000  4.100000e+05       3.000000   1974.000000   \n",
            "50%     7525.000000      3.000000  5.490000e+05       4.000000   2008.000000   \n",
            "75%    11287.500000      3.000000  7.990000e+05       5.000000   2019.000000   \n",
            "max    15050.000000     20.000000  7.490000e+06      29.000000  20004.000000   \n",
            "\n",
            "             pietro  powierzchnia             B             L     doCentrum  \\\n",
            "count  15051.000000  15051.000000  15051.000000  15051.000000  15051.000000   \n",
            "mean       2.468474     64.497806     54.416214     18.575207      4.257649   \n",
            "std        2.472275     30.777222      0.072552      0.064624      3.077387   \n",
            "min        0.000000     11.000000     54.287350     18.409809      0.014662   \n",
            "25%        1.000000     45.650000     54.349753     18.535458      1.286418   \n",
            "50%        2.000000     58.600000     54.401684     18.573540      4.209377   \n",
            "75%        3.000000     74.935000     54.476090     18.620106      6.220958   \n",
            "max       28.000000    880.000000     54.581497     18.934268     20.028514   \n",
            "\n",
            "            doMorza  \n",
            "count  15051.000000  \n",
            "mean       7.534708  \n",
            "std        2.937661  \n",
            "min        0.589279  \n",
            "25%        5.813931  \n",
            "50%        7.104411  \n",
            "75%        9.680549  \n",
            "max       17.731468  \n"
          ]
        }
      ]
    },
    {
      "cell_type": "code",
      "source": [
        "frequency = data['pietro'].value_counts()"
      ],
      "metadata": {
        "id": "114tEP5txthi"
      },
      "execution_count": 14,
      "outputs": []
    },
    {
      "cell_type": "code",
      "source": [
        "print(frequency)"
      ],
      "metadata": {
        "colab": {
          "base_uri": "https://localhost:8080/"
        },
        "id": "wRFl6d2pyZFP",
        "outputId": "5b96d9d7-2d7d-4364-c41a-f79db79aa4ca"
      },
      "execution_count": 15,
      "outputs": [
        {
          "output_type": "stream",
          "name": "stdout",
          "text": [
            "1     3551\n",
            "2     2820\n",
            "0     2720\n",
            "3     2545\n",
            "4     1488\n",
            "5      565\n",
            "6      390\n",
            "7      208\n",
            "8      188\n",
            "9      178\n",
            "10     172\n",
            "11     122\n",
            "12      23\n",
            "14      21\n",
            "16      20\n",
            "15      11\n",
            "18       8\n",
            "17       8\n",
            "13       7\n",
            "27       4\n",
            "28       1\n",
            "24       1\n",
            "Name: pietro, dtype: int64\n"
          ]
        }
      ]
    },
    {
      "cell_type": "code",
      "source": [
        "import matplotlib.pyplot as plt"
      ],
      "metadata": {
        "id": "eg_AlB3YytP1"
      },
      "execution_count": 16,
      "outputs": []
    },
    {
      "cell_type": "code",
      "source": [
        "top_values = frequency.head(5)"
      ],
      "metadata": {
        "id": "f3dIX32Hy2Y5"
      },
      "execution_count": 17,
      "outputs": []
    },
    {
      "cell_type": "code",
      "source": [
        "plt.bar(top_values.index, top_values.values)\n",
        "plt.xlabel('Wartość')\n",
        "plt.ylabel('Częstość')\n",
        "plt.title('Najczęstsze wartości w cechach \"pietro\"')\n",
        "plt.show()"
      ],
      "metadata": {
        "colab": {
          "base_uri": "https://localhost:8080/",
          "height": 472
        },
        "id": "eFbsZyN1y753",
        "outputId": "8912bb09-4019-41dc-aa6d-1756715a8803"
      },
      "execution_count": 18,
      "outputs": [
        {
          "output_type": "display_data",
          "data": {
            "text/plain": [
              "<Figure size 640x480 with 1 Axes>"
            ],
            "image/png": "[encoded data removed]"
          },
          "metadata": {}
        }
      ]
    },
    {
      "cell_type": "code",
      "source": [
        "cena = data['cena']"
      ],
      "metadata": {
        "id": "V0n1AdgrzH5C"
      },
      "execution_count": 19,
      "outputs": []
    },
    {
      "cell_type": "code",
      "source": [
        "plt.plot(cena)\n",
        "plt.xlabel('Indeks')\n",
        "plt.ylabel('Cena')\n",
        "plt.title('Wykres zmiennej \"cena\"')\n",
        "plt.show()"
      ],
      "metadata": {
        "colab": {
          "base_uri": "https://localhost:8080/",
          "height": 472
        },
        "id": "VBJhJ6BQzMWO",
        "outputId": "9d70fe1c-650e-41e5-cac5-7367976695d5"
      },
      "execution_count": 20,
      "outputs": [
        {
          "output_type": "display_data",
          "data": {
            "text/plain": [
              "<Figure size 640x480 with 1 Axes>"
            ],
            "image/png": "[encoded data removed]"
          },
          "metadata": {}
        }
      ]
    },
    {
      "cell_type": "code",
      "source": [
        "cena = data['cena']\n",
        "powierzchnia = data['powierzchnia']"
      ],
      "metadata": {
        "id": "Y80KNnBGzamX"
      },
      "execution_count": 21,
      "outputs": []
    },
    {
      "cell_type": "code",
      "source": [
        "plt.scatter(powierzchnia, cena)\n",
        "plt.xlabel('Powierzchnia')\n",
        "plt.ylabel('Cena')\n",
        "plt.title('Wykres rozrzutu: Cena vs Powierzchnia')\n",
        "plt.show()"
      ],
      "metadata": {
        "colab": {
          "base_uri": "https://localhost:8080/",
          "height": 472
        },
        "id": "BjC-rJaNzc12",
        "outputId": "08817b81-2dd6-4b92-b2df-a710ac7135ed"
      },
      "execution_count": 22,
      "outputs": [
        {
          "output_type": "display_data",
          "data": {
            "text/plain": [
              "<Figure size 640x480 with 1 Axes>"
            ],
            "image/png": "[encoded data removed]"
          },
          "metadata": {}
        }
      ]
    },
    {
      "cell_type": "code",
      "source": [
        "correlation_matrix = data.corr(method='spearman')"
      ],
      "metadata": {
        "id": "ij1s9q__zr5Z"
      },
      "execution_count": 23,
      "outputs": []
    },
    {
      "cell_type": "code",
      "source": [
        "print(correlation_matrix)"
      ],
      "metadata": {
        "colab": {
          "base_uri": "https://localhost:8080/"
        },
        "id": "bTvLkKEazvKr",
        "outputId": "75588b0b-99e3-428c-a595-ca9554f197c3"
      },
      "execution_count": 24,
      "outputs": [
        {
          "output_type": "stream",
          "name": "stdout",
          "text": [
            "               Unnamed: 0  liczba_pokoi      cena  liczba_pieter  rok_budowy  \\\n",
            "Unnamed: 0       1.000000      0.009972  0.010366       0.011933    0.112436   \n",
            "liczba_pokoi     0.009972      1.000000  0.543431      -0.173992   -0.000933   \n",
            "cena             0.010366      0.543431  1.000000      -0.075492    0.074919   \n",
            "liczba_pieter    0.011933     -0.173992 -0.075492       1.000000    0.077869   \n",
            "rok_budowy       0.112436     -0.000933  0.074919       0.077869    1.000000   \n",
            "pietro          -0.008572     -0.029878 -0.020524       0.500379   -0.021635   \n",
            "powierzchnia     0.019084      0.821317  0.737674      -0.197603   -0.005810   \n",
            "B               -0.000758      0.093659 -0.024714      -0.059128   -0.138007   \n",
            "L               -0.013450     -0.136641  0.227284       0.179257   -0.002321   \n",
            "doCentrum       -0.024977      0.018677 -0.264216       0.004085    0.136346   \n",
            "doMorza         -0.003275      0.054988 -0.019633      -0.190751    0.045990   \n",
            "\n",
            "                 pietro  powierzchnia         B         L  doCentrum   doMorza  \n",
            "Unnamed: 0    -0.008572      0.019084 -0.000758 -0.013450  -0.024977 -0.003275  \n",
            "liczba_pokoi  -0.029878      0.821317  0.093659 -0.136641   0.018677  0.054988  \n",
            "cena          -0.020524      0.737674 -0.024714  0.227284  -0.264216 -0.019633  \n",
            "liczba_pieter  0.500379     -0.197603 -0.059128  0.179257   0.004085 -0.190751  \n",
            "rok_budowy    -0.021635     -0.005810 -0.138007 -0.002321   0.136346  0.045990  \n",
            "pietro         1.000000     -0.032971 -0.020739  0.085528  -0.002162 -0.123927  \n",
            "powierzchnia  -0.032971      1.000000  0.038475 -0.080840  -0.051849  0.095970  \n",
            "B             -0.020739      0.038475  1.000000 -0.704928   0.067174 -0.472470  \n",
            "L              0.085528     -0.080840 -0.704928  1.000000  -0.335682 -0.107720  \n",
            "doCentrum     -0.002162     -0.051849  0.067174 -0.335682   1.000000  0.331189  \n",
            "doMorza       -0.123927      0.095970 -0.472470 -0.107720   0.331189  1.000000  \n"
          ]
        }
      ]
    }
  ]
}